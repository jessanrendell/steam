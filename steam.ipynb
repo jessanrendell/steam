{
 "cells": [
  {
   "cell_type": "markdown",
   "metadata": {},
   "source": [
    "# Steam\n",
    "\n",
    "Write an AI that recommends video games to Steam users using matrix factorization\n",
    "\n",
    "## Variables\n",
    "\n",
    "*int* `user_id`: numerical ID to identify while anonymizing Steam users  \n",
    "*str* `game_title`: name of the game with which the user made an interaction  \n",
    "*str* `behavior`: type of behavior exhibited by user; can only be either \"purchase\" or \"play\"  \n",
    "*int* `value`: if the `behavior` value is \"purchase\", the `value` is always 1; otherwise, it specifies the number of hours the game has been played by the user"
   ]
  },
  {
   "cell_type": "markdown",
   "metadata": {},
   "source": [
    "## Setup\n",
    "\n",
    "Import the libraries and functions to be used."
   ]
  },
  {
   "cell_type": "code",
   "execution_count": 1,
   "metadata": {},
   "outputs": [],
   "source": [
    "%reset -f\n",
    "\n",
    "import csv\n",
    "\n",
    "import numpy as np\n",
    "import tensorflow as tf\n",
    "import tensorflow_datasets as tfds\n",
    "import tensorflow_recommenders as tfrs\n",
    "\n",
    "from typing import Dict, Text"
   ]
  },
  {
   "cell_type": "markdown",
   "metadata": {},
   "source": [
    "## Loading the dataset\n",
    "\n",
    "Use the `DictReader()` function from the `csv` library to read the file and append each purchase as a dictionary mapping to a list."
   ]
  },
  {
   "cell_type": "code",
   "execution_count": 2,
   "metadata": {},
   "outputs": [
    {
     "name": "stdout",
     "output_type": "stream",
     "text": [
      "{'user_id': '151603712', 'game_title': 'The Elder Scrolls V Skyrim', 'behavior': 'purchase', 'value': '1'}\n",
      "{'user_id': '151603712', 'game_title': 'Fallout 4', 'behavior': 'purchase', 'value': '1'}\n",
      "{'user_id': '151603712', 'game_title': 'Spore', 'behavior': 'purchase', 'value': '1'}\n"
     ]
    }
   ],
   "source": [
    "data = []\n",
    "with open('steam-200k.csv', 'r') as f:\n",
    "    reader = csv.DictReader(f)\n",
    "    for row in reader:\n",
    "        if row['behavior'] == 'purchase':\n",
    "            data.append(row)\n",
    "\n",
    "for item in data[:3]:\n",
    "    print(item)"
   ]
  },
  {
   "cell_type": "markdown",
   "metadata": {},
   "source": [
    "## Formatting the data\n",
    "\n",
    "After selecting the relevant features, convert the data to a format `tensorflow` can read and process."
   ]
  },
  {
   "cell_type": "code",
   "execution_count": 3,
   "metadata": {},
   "outputs": [],
   "source": [
    "purchases = tf.data.Dataset.from_tensor_slices({\n",
    "        'user_id': list(map(lambda x: x['user_id'], data)),\n",
    "        'game_title': list(map(lambda x: x['game_title'], data))\n",
    "    }\n",
    ")\n",
    "\n",
    "games = tf.data.Dataset.from_tensor_slices(list(set(map(\n",
    "            lambda x: x['game_title'], data)\n",
    "        )\n",
    "    )\n",
    ")"
   ]
  },
  {
   "cell_type": "markdown",
   "metadata": {},
   "source": [
    "## Preprocessing\n",
    "\n",
    "Map the features to integer indices for embedding."
   ]
  },
  {
   "cell_type": "code",
   "execution_count": 4,
   "metadata": {},
   "outputs": [],
   "source": [
    "user_ids_vocabulary = tf.keras.layers.StringLookup()\n",
    "user_ids_vocabulary.adapt(purchases.map(lambda x: x['user_id']))\n",
    "\n",
    "game_titles_vocabulary = tf.keras.layers.StringLookup()\n",
    "game_titles_vocabulary.adapt(games)"
   ]
  },
  {
   "cell_type": "markdown",
   "metadata": {},
   "source": [
    "## Model design\n",
    "\n",
    "Define a class specifying the `compute_loss` function."
   ]
  },
  {
   "cell_type": "code",
   "execution_count": 5,
   "metadata": {},
   "outputs": [],
   "source": [
    "class SteamModel(tfrs.Model):\n",
    "\n",
    "    def __init__(\n",
    "        self,\n",
    "        user_model: tf.keras.Model,\n",
    "        game_model: tf.keras.Model,\n",
    "        task: tfrs.tasks.Retrieval\n",
    "    ):\n",
    "\n",
    "        super().__init__()\n",
    "\n",
    "        self.user_model = user_model\n",
    "        self.game_model = game_model\n",
    "\n",
    "        self.task = task\n",
    "\n",
    "    def compute_loss(self, features: Dict[Text, tf.Tensor], training=False) -> tf.Tensor:\n",
    "\n",
    "        user_embeddings = self.user_model(features[\"user_id\"])\n",
    "        game_embeddings = self.game_model(features[\"game_title\"])\n",
    "\n",
    "        return self.task(user_embeddings, game_embeddings)"
   ]
  },
  {
   "cell_type": "markdown",
   "metadata": {},
   "source": [
    "Add the embedding layers to the user and game models and define the factorized retrieval task"
   ]
  },
  {
   "cell_type": "code",
   "execution_count": 6,
   "metadata": {},
   "outputs": [],
   "source": [
    "user_model = tf.keras.Sequential([\n",
    "        user_ids_vocabulary,\n",
    "        tf.keras.layers.Embedding(user_ids_vocabulary.vocabulary_size(), 64)\n",
    "    ]\n",
    ")\n",
    "\n",
    "game_model = tf.keras.Sequential([\n",
    "        game_titles_vocabulary,\n",
    "        tf.keras.layers.Embedding(game_titles_vocabulary.vocabulary_size(), 64)\n",
    "    ]\n",
    ")\n",
    "\n",
    "task = tfrs.tasks.Retrieval(\n",
    "    metrics=tfrs.metrics.FactorizedTopK(\n",
    "        games.batch(128).map(game_model)\n",
    "    )\n",
    ")"
   ]
  },
  {
   "cell_type": "markdown",
   "metadata": {},
   "source": [
    "Initialize and train the retrieval model."
   ]
  },
  {
   "cell_type": "code",
   "execution_count": 7,
   "metadata": {},
   "outputs": [
    {
     "name": "stdout",
     "output_type": "stream",
     "text": [
      "Epoch 1/3\n",
      "32/32 [==============================] - 41s 1s/step - factorized_top_k/top_1_categorical_accuracy: 0.0014 - factorized_top_k/top_5_categorical_accuracy: 0.0099 - factorized_top_k/top_10_categorical_accuracy: 0.0175 - factorized_top_k/top_50_categorical_accuracy: 0.0581 - factorized_top_k/top_100_categorical_accuracy: 0.0952 - loss: 33347.6045 - regularization_loss: 0.0000e+00 - total_loss: 33347.6045\n",
      "Epoch 2/3\n",
      "32/32 [==============================] - 54s 2s/step - factorized_top_k/top_1_categorical_accuracy: 0.0197 - factorized_top_k/top_5_categorical_accuracy: 0.0695 - factorized_top_k/top_10_categorical_accuracy: 0.0930 - factorized_top_k/top_50_categorical_accuracy: 0.1617 - factorized_top_k/top_100_categorical_accuracy: 0.2092 - loss: 38812.5160 - regularization_loss: 0.0000e+00 - total_loss: 38812.5160\n",
      "Epoch 3/3\n",
      "32/32 [==============================] - 48s 2s/step - factorized_top_k/top_1_categorical_accuracy: 0.0359 - factorized_top_k/top_5_categorical_accuracy: 0.1116 - factorized_top_k/top_10_categorical_accuracy: 0.1457 - factorized_top_k/top_50_categorical_accuracy: 0.2468 - factorized_top_k/top_100_categorical_accuracy: 0.3077 - loss: 31026.9551 - regularization_loss: 0.0000e+00 - total_loss: 31026.9551\n"
     ]
    },
    {
     "data": {
      "text/plain": [
       "<keras.callbacks.History at 0x1c3b09d94c0>"
      ]
     },
     "execution_count": 7,
     "metadata": {},
     "output_type": "execute_result"
    }
   ],
   "source": [
    "model = SteamModel(user_model, game_model, task)\n",
    "model.compile(optimizer=tf.keras.optimizers.Adagrad(0.5))\n",
    "model.fit(purchases.batch(4096), epochs=3)"
   ]
  },
  {
   "cell_type": "markdown",
   "metadata": {},
   "source": [
    "Get video game recommendations from the model."
   ]
  },
  {
   "cell_type": "code",
   "execution_count": 8,
   "metadata": {},
   "outputs": [
    {
     "data": {
      "text/plain": [
       "<tensorflow_recommenders.layers.factorized_top_k.BruteForce at 0x1c3b12935e0>"
      ]
     },
     "execution_count": 8,
     "metadata": {},
     "output_type": "execute_result"
    }
   ],
   "source": [
    "index = tfrs.layers.factorized_top_k.BruteForce(model.user_model)\n",
    "index.index_from_dataset(\n",
    "    games.batch(100).map(lambda id: (id, model.game_model(id)))\n",
    ")"
   ]
  },
  {
   "cell_type": "code",
   "execution_count": 11,
   "metadata": {},
   "outputs": [
    {
     "name": "stdout",
     "output_type": "stream",
     "text": [
      "Top 3 games to play for users\n",
      "    151603712: [b'Stonehearth' b'Guild of Dungeoneering' b'Legend of Grimrock 2']\n",
      "    187131847: [b'Dota 2' b'Special Forces Team X' b'iRacing']\n",
      "    59945701: [b'GUILTY GEAR XX ACCENT CORE PLUS R' b'Guilty Gear X2 #Reload'\n",
      " b'Cities in Motion 2']\n"
     ]
    }
   ],
   "source": [
    "USERS = ['151603712', '187131847', '59945701']\n",
    "\n",
    "print(f\"Top 3 games to play for users\")\n",
    "for user in USERS:\n",
    "    _, ids = index(np.array([user]))\n",
    "    print(f\"    {user}: {ids[0, :3]}\")"
   ]
  },
  {
   "cell_type": "markdown",
   "metadata": {},
   "source": [
    "<br>\n",
    "\n",
    "- - -\n",
    "\n",
    "#### Code authorship\n",
    "\n",
    "2021 © Jessan Rendell G. Belenzo\n",
    "\n",
    "<br>\n",
    "\n",
    "#### Terms of use\n",
    "\n",
    "Licensed under the GNU General Public License v3.0. See [LICENSE](https://github.com/jessanrendell/steam/blob/main/LICENSE).\n",
    "\n",
    "<br>\n",
    "\n",
    "## Acknowledgments\n",
    "\n",
    "The Tamber Team (2017). Steam Video Games, version 3. Retrieved October 29, 2021 from https://www.kaggle.com/tamber/steam-video-games."
   ]
  }
 ],
 "metadata": {
  "interpreter": {
   "hash": "5e02d0efff813a9368c354e505ea65821711dca306094a6f79d155d3e22f7a88"
  },
  "kernelspec": {
   "display_name": "Python 3.8.10 64-bit",
   "name": "python3"
  },
  "language_info": {
   "codemirror_mode": {
    "name": "ipython",
    "version": 3
   },
   "file_extension": ".py",
   "mimetype": "text/x-python",
   "name": "python",
   "nbconvert_exporter": "python",
   "pygments_lexer": "ipython3",
   "version": "3.8.10"
  },
  "orig_nbformat": 4
 },
 "nbformat": 4,
 "nbformat_minor": 2
}
